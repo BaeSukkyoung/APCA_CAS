{
 "cells": [
  {
   "cell_type": "code",
   "execution_count": 24,
   "metadata": {},
   "outputs": [],
   "source": [
    "import numpy as np\n",
    "import h5py\n",
    "import os \n",
    "import json\n",
    "import scipy.io as spio\n",
    "\n",
    "\n",
    "# This is a python implementation of \n",
    "\n",
    "# Jin et al. (2015), Adaptive reference updating for vibration-based\n",
    "# structural health monitoring under varying environmental conditions,\n",
    "# Computers & Structures."
   ]
  },
  {
   "cell_type": "code",
   "execution_count": 26,
   "metadata": {},
   "outputs": [],
   "source": [
    "##  SIMULATION OPTIONS \n",
    "# (1) Select Damage Scenario\n",
    "\n",
    "# Four damage senarios are available as below:\n",
    "# case0_lin: No damage occurs under linear dependency to temp.\n",
    "# case1_lin: Damage occurs at #sample of 700  under linear dependency to temp\n",
    "# case0_bi_lin: No damage occurs under non-linear dependency to temp.\n",
    "# case1_bi_lin: Damage occurs at #sample of 700 under non-linear dependency to temp\n",
    "\n",
    "## uncommnet senario that you want to run \n",
    "\n",
    "# fn='case0_lin'; # No damage // Quasi-Linear\n",
    "# fn='case1_lin'; # Damage at #700 // Quasi-Linear\n",
    "# fn='case0_bi_lin'; # No damage // Bi-linear \n",
    "fn= 'case1_bi_lin'; # Damage at #700 // Bi-linear "
   ]
  },
  {
   "cell_type": "code",
   "execution_count": 27,
   "metadata": {},
   "outputs": [],
   "source": [
    "## (2) Select Noise Level\n",
    "# SNR 100dB: No noise\n",
    "# SNR 60dB: Noise injected\n",
    "# Smaller SNR indicates large noise\n",
    "# noise_amp=0.00001; # SNR 100 dB\n",
    "noise_amp=0.001; # SNR 60 dB"
   ]
  },
  {
   "cell_type": "code",
   "execution_count": 28,
   "metadata": {},
   "outputs": [],
   "source": [
    "## (3) Define Size of Initial Training Sample\n",
    "# Do not define the size above 700 for the damage scenarios (i.e., case1_*.mat)\n",
    "n_init = 200;"
   ]
  },
  {
   "cell_type": "code",
   "execution_count": 29,
   "metadata": {},
   "outputs": [],
   "source": [
    "## (4) Define file name for saving simulated data\n",
    "fn_sv = ['DB_' + fn + '_' + str(noise_amp) + '.mat'] # Change filename as you wish"
   ]
  },
  {
   "cell_type": "code",
   "execution_count": 31,
   "metadata": {},
   "outputs": [],
   "source": [
    "lib = spio.loadmat(os.path.join('DB_for_Scenario', fn+'.mat'))"
   ]
  },
  {
   "cell_type": "code",
   "execution_count": 19,
   "metadata": {},
   "outputs": [
    {
     "data": {
      "text/plain": [
       "''"
      ]
     },
     "execution_count": 19,
     "metadata": {},
     "output_type": "execute_result"
    }
   ],
   "source": []
  }
 ],
 "metadata": {
  "kernelspec": {
   "display_name": "Python 3",
   "language": "python",
   "name": "python3"
  },
  "language_info": {
   "codemirror_mode": {
    "name": "ipython",
    "version": 3
   },
   "file_extension": ".py",
   "mimetype": "text/x-python",
   "name": "python",
   "nbconvert_exporter": "python",
   "pygments_lexer": "ipython3",
   "version": "3.6.4"
  }
 },
 "nbformat": 4,
 "nbformat_minor": 2
}
